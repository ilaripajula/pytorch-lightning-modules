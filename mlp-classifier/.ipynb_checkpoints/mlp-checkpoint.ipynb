{
 "cells": [
  {
   "cell_type": "markdown",
   "metadata": {},
   "source": [
    "# MLP Classifier fit and evaluate.\n",
    "Initializes dataloader and loggers before fitting a binary LinearClassifier or a MultiClassClassifer."
   ]
  },
  {
   "cell_type": "code",
   "execution_count": 1,
   "metadata": {},
   "outputs": [],
   "source": [
    "import torch\n",
    "import pytorch_lightning as pl\n",
    "from data_loader import DataModule\n",
    "from linear_classifier import LinearClassifier\n",
    "from multiclass_classifier import MultiClassClassifier\n",
    "from pytorch_lightning.loggers import TensorBoardLogger\n",
    "from pytorch_lightning.callbacks import EarlyStopping, ModelCheckpoint"
   ]
  },
  {
   "cell_type": "markdown",
   "metadata": {},
   "source": [
    "The provide the PATHs to your data in the dataloader"
   ]
  },
  {
   "cell_type": "code",
   "execution_count": 2,
   "metadata": {},
   "outputs": [],
   "source": [
    "data_module = DataModule(\n",
    "    DATA_PATH=\"./embeddings/edge_csvs/affinity_embs.csv\",\n",
    "    LABEL_PATH=\"./embeddings/edge_csvs/labels.csv\",\n",
    "    train_size=0.6,\n",
    "    num_workers=4,\n",
    "    multiclass=False, # False when using LinearClassifer\n",
    ")\n",
    "data_module.prepare_data()\n",
    "\n",
    "#model = MultiClassClassifier(input_dim=172, dropout=0.1)\n",
    "model = LinearClassifier(input_dim=172)"
   ]
  },
  {
   "cell_type": "code",
   "execution_count": 3,
   "metadata": {},
   "outputs": [
    {
     "name": "stderr",
     "output_type": "stream",
     "text": [
      "/opt/conda/lib/python3.7/site-packages/pytorch_lightning/callbacks/model_checkpoint.py:446: UserWarning: Checkpoint directory saved_checkpoints/ exists and is not empty.\n",
      "  rank_zero_warn(f\"Checkpoint directory {dirpath} exists and is not empty.\")\n",
      "GPU available: True, used: True\n",
      "TPU available: False, using: 0 TPU cores\n",
      "IPU available: False, using: 0 IPUs\n"
     ]
    }
   ],
   "source": [
    "version = \"LinearMLP\"\n",
    "monitor = \"Loss/validation\"\n",
    "mode = \"min\"\n",
    "\n",
    "logger = TensorBoardLogger(\"lightning_logs\", name=\"LinearClassifier\", version=version)\n",
    "early_stopping = EarlyStopping(monitor=monitor, mode=mode, patience=5)\n",
    "model_checkpoint = ModelCheckpoint(\n",
    "    monitor=monitor,\n",
    "    mode=mode,\n",
    "    save_top_k=2,\n",
    "    dirpath=\"saved_checkpoints/\",\n",
    "    filename=version + \"-({epoch:02d})\",\n",
    ")\n",
    "trainer = pl.Trainer(gpus=1, logger=logger, callbacks=[early_stopping, model_checkpoint], max_epochs=8)"
   ]
  },
  {
   "cell_type": "markdown",
   "metadata": {},
   "source": [
    "##### Fit the model"
   ]
  },
  {
   "cell_type": "code",
   "execution_count": 4,
   "metadata": {},
   "outputs": [
    {
     "name": "stderr",
     "output_type": "stream",
     "text": [
      "Global seed set to 0\n",
      "LOCAL_RANK: 0 - CUDA_VISIBLE_DEVICES: [0]\n",
      "\n",
      "  | Name      | Type              | Params\n",
      "------------------------------------------------\n",
      "0 | decoder   | Sequential        | 3.7 K \n",
      "1 | criterion | BCEWithLogitsLoss | 0     \n",
      "------------------------------------------------\n",
      "3.7 K     Trainable params\n",
      "0         Non-trainable params\n",
      "3.7 K     Total params\n",
      "0.015     Total estimated model params size (MB)\n"
     ]
    },
    {
     "data": {
      "application/vnd.jupyter.widget-view+json": {
       "model_id": "",
       "version_major": 2,
       "version_minor": 0
      },
      "text/plain": [
       "HBox(children=(FloatProgress(value=1.0, bar_style='info', description='Validation sanity check', layout=Layout…"
      ]
     },
     "metadata": {},
     "output_type": "display_data"
    },
    {
     "name": "stderr",
     "output_type": "stream",
     "text": [
      "/opt/conda/lib/python3.7/site-packages/sklearn/metrics/_classification.py:1272: UndefinedMetricWarning: Precision and F-score are ill-defined and being set to 0.0 in labels with no predicted samples. Use `zero_division` parameter to control this behavior.\n",
      "  _warn_prf(average, modifier, msg_start, len(result))\n",
      "Global seed set to 0\n"
     ]
    },
    {
     "name": "stdout",
     "output_type": "stream",
     "text": [
      "              precision    recall  f1-score   support\n",
      "\n",
      "         0.0       0.00      0.00      0.00        52\n",
      "         1.0       0.13      1.00      0.24         8\n",
      "\n",
      "    accuracy                           0.13        60\n",
      "   macro avg       0.07      0.50      0.12        60\n",
      "weighted avg       0.02      0.13      0.03        60\n",
      "\n"
     ]
    },
    {
     "data": {
      "application/vnd.jupyter.widget-view+json": {
       "model_id": "d4a085271768412eaa70bea367d093fc",
       "version_major": 2,
       "version_minor": 0
      },
      "text/plain": [
       "HBox(children=(FloatProgress(value=1.0, bar_style='info', description='Training', layout=Layout(flex='2'), max…"
      ]
     },
     "metadata": {},
     "output_type": "display_data"
    },
    {
     "data": {
      "application/vnd.jupyter.widget-view+json": {
       "model_id": "",
       "version_major": 2,
       "version_minor": 0
      },
      "text/plain": [
       "HBox(children=(FloatProgress(value=1.0, bar_style='info', description='Validating', layout=Layout(flex='2'), m…"
      ]
     },
     "metadata": {},
     "output_type": "display_data"
    },
    {
     "name": "stdout",
     "output_type": "stream",
     "text": [
      "              precision    recall  f1-score   support\n",
      "\n",
      "         0.0       1.00      1.00      1.00    335588\n",
      "         1.0       0.99      0.98      0.99     64412\n",
      "\n",
      "    accuracy                           1.00    400000\n",
      "   macro avg       0.99      0.99      0.99    400000\n",
      "weighted avg       1.00      1.00      1.00    400000\n",
      "\n"
     ]
    },
    {
     "data": {
      "application/vnd.jupyter.widget-view+json": {
       "model_id": "",
       "version_major": 2,
       "version_minor": 0
      },
      "text/plain": [
       "HBox(children=(FloatProgress(value=1.0, bar_style='info', description='Validating', layout=Layout(flex='2'), m…"
      ]
     },
     "metadata": {},
     "output_type": "display_data"
    },
    {
     "name": "stdout",
     "output_type": "stream",
     "text": [
      "              precision    recall  f1-score   support\n",
      "\n",
      "         0.0       1.00      1.00      1.00    335588\n",
      "         1.0       0.99      0.99      0.99     64412\n",
      "\n",
      "    accuracy                           1.00    400000\n",
      "   macro avg       0.99      0.99      0.99    400000\n",
      "weighted avg       1.00      1.00      1.00    400000\n",
      "\n"
     ]
    },
    {
     "data": {
      "application/vnd.jupyter.widget-view+json": {
       "model_id": "",
       "version_major": 2,
       "version_minor": 0
      },
      "text/plain": [
       "HBox(children=(FloatProgress(value=1.0, bar_style='info', description='Validating', layout=Layout(flex='2'), m…"
      ]
     },
     "metadata": {},
     "output_type": "display_data"
    },
    {
     "name": "stdout",
     "output_type": "stream",
     "text": [
      "              precision    recall  f1-score   support\n",
      "\n",
      "         0.0       1.00      1.00      1.00    335588\n",
      "         1.0       0.99      0.99      0.99     64412\n",
      "\n",
      "    accuracy                           1.00    400000\n",
      "   macro avg       0.99      0.99      0.99    400000\n",
      "weighted avg       1.00      1.00      1.00    400000\n",
      "\n"
     ]
    },
    {
     "data": {
      "application/vnd.jupyter.widget-view+json": {
       "model_id": "",
       "version_major": 2,
       "version_minor": 0
      },
      "text/plain": [
       "HBox(children=(FloatProgress(value=1.0, bar_style='info', description='Validating', layout=Layout(flex='2'), m…"
      ]
     },
     "metadata": {},
     "output_type": "display_data"
    },
    {
     "name": "stdout",
     "output_type": "stream",
     "text": [
      "              precision    recall  f1-score   support\n",
      "\n",
      "         0.0       1.00      1.00      1.00    335588\n",
      "         1.0       0.99      0.99      0.99     64412\n",
      "\n",
      "    accuracy                           1.00    400000\n",
      "   macro avg       0.99      0.99      0.99    400000\n",
      "weighted avg       1.00      1.00      1.00    400000\n",
      "\n"
     ]
    },
    {
     "data": {
      "application/vnd.jupyter.widget-view+json": {
       "model_id": "",
       "version_major": 2,
       "version_minor": 0
      },
      "text/plain": [
       "HBox(children=(FloatProgress(value=1.0, bar_style='info', description='Validating', layout=Layout(flex='2'), m…"
      ]
     },
     "metadata": {},
     "output_type": "display_data"
    },
    {
     "name": "stdout",
     "output_type": "stream",
     "text": [
      "              precision    recall  f1-score   support\n",
      "\n",
      "         0.0       1.00      1.00      1.00    335588\n",
      "         1.0       0.99      0.99      0.99     64412\n",
      "\n",
      "    accuracy                           1.00    400000\n",
      "   macro avg       1.00      0.99      0.99    400000\n",
      "weighted avg       1.00      1.00      1.00    400000\n",
      "\n"
     ]
    },
    {
     "data": {
      "application/vnd.jupyter.widget-view+json": {
       "model_id": "",
       "version_major": 2,
       "version_minor": 0
      },
      "text/plain": [
       "HBox(children=(FloatProgress(value=1.0, bar_style='info', description='Validating', layout=Layout(flex='2'), m…"
      ]
     },
     "metadata": {},
     "output_type": "display_data"
    },
    {
     "name": "stdout",
     "output_type": "stream",
     "text": [
      "              precision    recall  f1-score   support\n",
      "\n",
      "         0.0       1.00      1.00      1.00    335588\n",
      "         1.0       0.99      0.99      0.99     64412\n",
      "\n",
      "    accuracy                           1.00    400000\n",
      "   macro avg       1.00      0.99      0.99    400000\n",
      "weighted avg       1.00      1.00      1.00    400000\n",
      "\n"
     ]
    },
    {
     "data": {
      "application/vnd.jupyter.widget-view+json": {
       "model_id": "",
       "version_major": 2,
       "version_minor": 0
      },
      "text/plain": [
       "HBox(children=(FloatProgress(value=1.0, bar_style='info', description='Validating', layout=Layout(flex='2'), m…"
      ]
     },
     "metadata": {},
     "output_type": "display_data"
    },
    {
     "name": "stdout",
     "output_type": "stream",
     "text": [
      "              precision    recall  f1-score   support\n",
      "\n",
      "         0.0       1.00      1.00      1.00    335588\n",
      "         1.0       0.99      0.99      0.99     64412\n",
      "\n",
      "    accuracy                           1.00    400000\n",
      "   macro avg       1.00      0.99      0.99    400000\n",
      "weighted avg       1.00      1.00      1.00    400000\n",
      "\n"
     ]
    },
    {
     "data": {
      "application/vnd.jupyter.widget-view+json": {
       "model_id": "",
       "version_major": 2,
       "version_minor": 0
      },
      "text/plain": [
       "HBox(children=(FloatProgress(value=1.0, bar_style='info', description='Validating', layout=Layout(flex='2'), m…"
      ]
     },
     "metadata": {},
     "output_type": "display_data"
    },
    {
     "name": "stdout",
     "output_type": "stream",
     "text": [
      "              precision    recall  f1-score   support\n",
      "\n",
      "         0.0       1.00      1.00      1.00    335588\n",
      "         1.0       0.99      0.99      0.99     64412\n",
      "\n",
      "    accuracy                           1.00    400000\n",
      "   macro avg       1.00      0.99      0.99    400000\n",
      "weighted avg       1.00      1.00      1.00    400000\n",
      "\n",
      "\n"
     ]
    }
   ],
   "source": [
    "# Set the seed right before starting the training\n",
    "pl.utilities.seed.seed_everything(0)\n",
    "trainer.fit(model, data_module)"
   ]
  },
  {
   "cell_type": "code",
   "execution_count": null,
   "metadata": {},
   "outputs": [],
   "source": []
  }
 ],
 "metadata": {
  "interpreter": {
   "hash": "28e0bae47deae031363fd7432b72deb8e338c72e95b86edd39a30657be170891"
  },
  "kernelspec": {
   "display_name": "Python 3",
   "language": "python",
   "name": "python3"
  },
  "language_info": {
   "codemirror_mode": {
    "name": "ipython",
    "version": 3
   },
   "file_extension": ".py",
   "mimetype": "text/x-python",
   "name": "python",
   "nbconvert_exporter": "python",
   "pygments_lexer": "ipython3",
   "version": "3.7.8"
  }
 },
 "nbformat": 4,
 "nbformat_minor": 5
}
